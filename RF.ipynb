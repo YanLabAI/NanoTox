{
 "cells": [
  {
   "cell_type": "code",
   "execution_count": 1,
   "metadata": {},
   "outputs": [],
   "source": [
    "from sklearn.ensemble import RandomForestRegressor  \n",
    "from sklearn.model_selection import cross_val_score, train_test_split\n",
    "import pandas as pd\n",
    "import numpy as np\n",
    "from sklearn.model_selection import cross_val_predict\n",
    "from sklearn.metrics import r2_score, mean_absolute_error, mean_squared_error  \n",
    "import matplotlib.pyplot as plt\n"
   ]
  },
  {
   "cell_type": "code",
   "execution_count": 1,
   "metadata": {},
   "outputs": [],
   "source": [
    "import pandas as pd\n",
    "x0 = pd.read_excel(r'nanoplastic_std_x0.xlsx')\n",
    "y = pd.read_excel(r'nanoplastic_std_y.xlsx')\n"
   ]
  },
  {
   "cell_type": "code",
   "execution_count": 32,
   "metadata": {
    "ExecuteTime": {
     "end_time": "2022-07-28T08:45:06.286854Z",
     "start_time": "2022-07-28T08:42:08.006472Z"
    }
   },
   "outputs": [
    {
     "name": "stdout",
     "output_type": "stream",
     "text": [
      "Best_5cv score：0.739963755212947 random_5cv:233\n",
      "233\n",
      "Best_5cv score：0.7411816274182756 n_est_5cv:88\n",
      "Best_5cv score：0.741320970446487 max_depth_5cv:44\n",
      "45\n",
      "Best_5cv score：0.741320970446487 min_samples_leaf_5cv:0\n",
      "1\n",
      "Best_5cv score：0.741320970446487 min_samples_split_5cv:0\n",
      "1\n",
      "Best_5cv score：0.7427457405932671 max_features_5cv:120\n",
      "5cv: 0.7427457405932671\n",
      "rmse_5CV 12.160378829514203\n",
      "5CV_MAE: 7.81646765379725\n",
      "test: 0.7620316182923639\n",
      "rmse_test 10.670822699745228\n",
      "MAE_test: 7.072492299680643\n"
     ]
    }
   ],
   "source": [
    "\n",
    "\n",
    "Xtrain,Xtest,Ytrain,Ytest = train_test_split(x0,y,test_size=0.2,random_state=170)\n",
    "\n",
    "'''\n",
    "\n",
    "Parameter optimization and five-fold cross validation and parameter optimization\n",
    "\n",
    "'''\n",
    "#Random_state\n",
    "score_5cv_all = []\n",
    "for i in range(0, 400, 1):\n",
    "    rfc =RandomForestRegressor(random_state=i)\n",
    "    score_5cv =cross_val_score(rfc, Xtrain, Ytrain, cv=5).mean()\n",
    "    score_5cv_all.append(score_5cv)\n",
    "    pass\n",
    "score_max_5cv = max(score_5cv_all)\n",
    "\n",
    "print(\"Best_5cv score：{}\".format(score_max_5cv),\n",
    "      \"random_5cv:{}\".format(score_5cv_all.index(score_max_5cv)))\n",
    "\n",
    "random_state_5cv = range(0, 400)[score_5cv_all.index(max(score_5cv_all))]\n",
    "print(random_state_5cv)\n",
    "\n",
    "\n",
    "\n",
    "#n_estimator\n",
    "score_5cv_all = []\n",
    "for i in range(1, 500, 1):\n",
    "    rfc = RandomForestRegressor(n_estimators=i\n",
    "                                , random_state=random_state_5cv)\n",
    "    score_5cv = cross_val_score(rfc, Xtrain, Ytrain, cv=5).mean()\n",
    "    score_5cv_all.append(score_5cv)\n",
    "    pass\n",
    "\n",
    "score_max_5cv = max(score_5cv_all)\n",
    "n_est_5cv = range(1,500)[score_5cv_all.index(score_max_5cv)]\n",
    "print(\"Best_5cv score：{}\".format(score_max_5cv),\n",
    "      \"n_est_5cv:{}\".format(n_est_5cv))\n",
    "\n",
    "\n",
    "\n",
    "#Max_depth\n",
    "score_5cv_all = []\n",
    "for i in range(1, 200, 1):\n",
    "    rfc = RandomForestRegressor(n_estimators=n_est_5cv\n",
    "                                , random_state= random_state_5cv \n",
    "                                , max_depth=i)\n",
    "    score_5cv = cross_val_score(rfc, Xtrain, Ytrain, cv=5).mean()\n",
    "    score_5cv_all.append(score_5cv)\n",
    "    pass\n",
    "score_max_5cv = max(score_5cv_all)\n",
    "print(\"Best_5cv score：{}\".format(score_max_5cv),\n",
    "      \"max_depth_5cv:{}\".format(score_5cv_all.index(score_max_5cv)))\n",
    "max_depth_5cv = range(1,200)[score_5cv_all.index(score_max_5cv)]\n",
    "print(max_depth_5cv )\n",
    "\n",
    "\n",
    "#min_samples_leaf \n",
    "score_5cv_all = []\n",
    "for i in range(1, 100, 1):\n",
    "    rfc = RandomForestRegressor(n_estimators=n_est_5cv\n",
    "                                , random_state= random_state_5cv \n",
    "                                , max_depth=max_depth_5cv\n",
    "                                ,min_samples_leaf=i)\n",
    "    score_5cv = cross_val_score(rfc, Xtrain, Ytrain, cv=5).mean()\n",
    "    score_5cv_all.append(score_5cv)\n",
    "    pass\n",
    "score_max_5cv = max(score_5cv_all)\n",
    "print(\"Best_5cv score：{}\".format(score_max_5cv),\n",
    "      \"min_samples_leaf_5cv:{}\".format(score_5cv_all.index(score_max_5cv)))\n",
    "min_samples_leaf_5cv = range(1,200)[score_5cv_all.index(score_max_5cv)]\n",
    "print(min_samples_leaf_5cv )\n",
    "\n",
    "#min_samples_split\n",
    "score_5cv_all = []\n",
    "for i in range(1, 100, 1):\n",
    "    rfc = RandomForestRegressor(n_estimators=n_est_5cv\n",
    "                                , random_state= random_state_5cv \n",
    "                                , max_depth=max_depth_5cv\n",
    "                                ,min_samples_leaf=min_samples_leaf_5cv\n",
    "                                ,min_samples_split=i)\n",
    "    score_5cv = cross_val_score(rfc, Xtrain, Ytrain, cv=5).mean()\n",
    "    score_5cv_all.append(score_5cv)\n",
    "    pass\n",
    "score_max_5cv = max(score_5cv_all)\n",
    "print(\"Best_5cv score：{}\".format(score_max_5cv),\n",
    "      \"min_samples_split_5cv:{}\".format(score_5cv_all.index(score_max_5cv)))\n",
    "min_samples_split_5cv = range(1,200)[score_5cv_all.index(score_max_5cv)]\n",
    "print(min_samples_split_5cv )\n",
    "\n",
    "\n",
    "\n",
    "\n",
    "#max_features\n",
    "score_5cv_all = []\n",
    "for i in range(1,Xtrain.shape[1]+1):\n",
    "    rfc = RandomForestRegressor(n_estimators=n_est_5cv\n",
    "                                ,random_state=random_state_5cv\n",
    "                                ,max_depth=max_depth_5cv\n",
    "                                ,min_samples_leaf=min_samples_leaf_5cv\n",
    "                                ,min_samples_split=min_samples_split_5cv\n",
    "                                ,max_features=i)\n",
    "    score_5cv = cross_val_score(rfc, Xtrain, Ytrain, cv=5).mean()\n",
    "    score_5cv_all.append(score_5cv)\n",
    "    pass\n",
    "\n",
    "score_max_5cv = max(score_5cv_all)\n",
    "max_features_5cv = range(1, Xtrain.shape[1]+1)[score_5cv_all.index(score_max_5cv)]\n",
    "\n",
    "print(\"Best_5cv score：{}\".format(score_max_5cv),\n",
    "      \"max_features_5cv:{}\".format(max_features_5cv))\n",
    "\n",
    "\n",
    "\n",
    "\n",
    "rfc = RandomForestRegressor(n_estimators=n_est_5cv,\n",
    "                            random_state= random_state_5cv,\n",
    "                            max_depth=max_depth_5cv,\n",
    "                            max_features=max_features_5cv,\n",
    "                            min_samples_leaf=min_samples_leaf_5cv,\n",
    "                            min_samples_split = min_samples_split_5cv)\n",
    "CV_score = cross_val_score(rfc, Xtrain, Ytrain, cv=5).mean()\n",
    "CV_predictions = cross_val_predict(rfc, Xtrain, Ytrain, cv=5)\n",
    "rmse = np.sqrt(mean_squared_error(Ytrain,CV_predictions))\n",
    "mae = mean_absolute_error(Ytrain,CV_predictions)\n",
    "print(\"5cv:\",CV_score)\n",
    "print(\"rmse_5CV\",rmse)\n",
    "print('5CV_MAE:',mae)\n",
    "expvspred_5cv = {'Exp': Ytrain, 'Pred':CV_predictions}\n",
    "pd.DataFrame(expvspred_5cv).to_excel(r'random_forest_5fcv_predictions.xlsx')\n",
    "\n",
    "'''\n",
    "Test set validation\n",
    "\n",
    "'''\n",
    "\n",
    "\n",
    "test_predictions = regressor.predict(Xtest)\n",
    "score_test = regressor.score(Xtest,Ytest)\n",
    "rmse = np.sqrt(mean_squared_error(Ytest,test_predictions))\n",
    "mae = mean_absolute_error(Ytest,test_predictions)\n",
    "print(\"test:\",score_test)\n",
    "print(\"rmse_test\",rmse)\n",
    "print(\"MAE_test:\",mae)\n",
    "expvspred_test = {'Exp':Ytest,'Pred':test_predictions}\n",
    "pd.DataFrame(expvspred_test).to_excel(r'RF_test_predictions.xlsx')\n",
    "\n",
    "\n"
   ]
  },
  {
   "cell_type": "code",
   "execution_count": 4,
   "metadata": {},
   "outputs": [],
   "source": [
    "Xtrain,Xtest,Ytrain,Ytest = train_test_split(x0,y,test_size=0.2,random_state=170)"
   ]
  },
  {
   "cell_type": "code",
   "execution_count": 7,
   "metadata": {},
   "outputs": [],
   "source": [
    "\n",
    "rfc = RandomForestRegressor(n_estimators=88,\n",
    "                            random_state= 233,\n",
    "                            max_depth=44,\n",
    "                            max_features=120,\n",
    "                            min_samples_leaf=1,\n",
    "                            min_samples_split =1)"
   ]
  },
  {
   "cell_type": "code",
   "execution_count": 8,
   "metadata": {},
   "outputs": [
    {
     "name": "stderr",
     "output_type": "stream",
     "text": [
      "<ipython-input-8-861de99e5462>:1: DataConversionWarning: A column-vector y was passed when a 1d array was expected. Please change the shape of y to (n_samples,), for example using ravel().\n",
      "  regressor = rfc.fit(Xtrain, Ytrain)\n"
     ]
    }
   ],
   "source": [
    "regressor = rfc.fit(Xtrain, Ytrain)"
   ]
  },
  {
   "cell_type": "code",
   "execution_count": 9,
   "metadata": {},
   "outputs": [],
   "source": [
    "#feature importance\n",
    "from sklearn.metrics import r2_score, mean_absolute_error, mean_squared_error\n",
    "feature_importance = regressor.feature_importances_\n",
    "dataframe_feature_importance = sorted(zip(feature_importance,Xtrain.columns),reverse=True)\n",
    "df = pd.DataFrame(dataframe_feature_importance,columns=[\"importance\",\"feature\"])\n",
    "# 提取特征名称中的前缀，作为新的一列\n",
    "df[\"prefix\"] = df[\"feature\"].str.split(\"_\").str[0]\n",
    "df_new = df.groupby(\"prefix\")[\"importance\"].sum().reset_index()\n",
    "df_new.sort_values(by='importance',ascending=False,inplace=True)\n",
    "\n"
   ]
  },
  {
   "cell_type": "code",
   "execution_count": 11,
   "metadata": {},
   "outputs": [],
   "source": [
    "df_new.to_excel(r'f_importance.xlsx')"
   ]
  }
 ],
 "metadata": {
  "kernelspec": {
   "display_name": "Python 3",
   "language": "python",
   "name": "python3"
  },
  "language_info": {
   "codemirror_mode": {
    "name": "ipython",
    "version": 3
   },
   "file_extension": ".py",
   "mimetype": "text/x-python",
   "name": "python",
   "nbconvert_exporter": "python",
   "pygments_lexer": "ipython3",
   "version": "3.8.8"
  },
  "toc": {
   "base_numbering": 1,
   "nav_menu": {},
   "number_sections": true,
   "sideBar": true,
   "skip_h1_title": false,
   "title_cell": "Table of Contents",
   "title_sidebar": "Contents",
   "toc_cell": false,
   "toc_position": {},
   "toc_section_display": true,
   "toc_window_display": false
  },
  "vscode": {
   "interpreter": {
    "hash": "ad2bdc8ecc057115af97d19610ffacc2b4e99fae6737bb82f5d7fb13d2f2c186"
   }
  }
 },
 "nbformat": 4,
 "nbformat_minor": 2
}
