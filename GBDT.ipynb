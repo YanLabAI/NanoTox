{
 "cells": [
  {
   "cell_type": "code",
   "execution_count": 2,
   "metadata": {},
   "outputs": [],
   "source": [
    "from sklearn.ensemble import RandomForestRegressor\n",
    "from xgboost import XGBRegressor as XGBR\n",
    "from sklearn.tree import DecisionTreeRegressor\n",
    "from sklearn.ensemble import GradientBoostingRegressor\n",
    "from sklearn.model_selection import cross_val_score,cross_val_predict\n",
    "from sklearn.model_selection import train_test_split\n",
    "from sklearn.preprocessing import StandardScaler\n",
    "from sklearn.preprocessing import OneHotEncoder\n",
    "from sklearn.decomposition import PCA\n",
    "from sklearn.feature_selection import RFE\n",
    "from mpl_toolkits.mplot3d import Axes3D \n",
    "from sklearn.metrics import mean_squared_error\n",
    "from sklearn.metrics import r2_score\n",
    "from sklearn.metrics import mean_squared_error as MSE\n",
    "from sklearn.metrics import mean_absolute_error as MAE\n",
    "from sklearn.metrics import log_loss\n",
    "import matplotlib\n",
    "import matplotlib.pyplot as plt\n",
    "import matplotlib.cm as cm\n",
    "import shap\n",
    "import seaborn as sns\n",
    "import numpy as np\n",
    "import pandas as pd\n",
    "import os"
   ]
  },
  {
   "cell_type": "code",
   "execution_count": 2,
   "metadata": {},
   "outputs": [
    {
     "name": "stdout",
     "output_type": "stream",
     "text": [
      "5cv: 0.44613507126237 TEST: 0.523312992930695\n"
     ]
    }
   ],
   "source": [
    "X = pd.read_excel('std_x0.xlsx')\n",
    "y = pd.read_excel('std_y.xlsx')['Cell viability']\n",
    "\n",
    "Xtrain,Xtest,Ytrain,Ytest = train_test_split(X,y,test_size=0.2,random_state=60)\n",
    "\n",
    "rfc = GradientBoostingRegressor(random_state=10)\n",
    "CV_score = cross_val_score(rfc, Xtrain, Ytrain, cv=5).mean()\n",
    "regressor = rfc.fit(Xtrain, Ytrain)\n",
    "score_test = regressor.score(Xtest,Ytest)\n",
    "print(\"5cv:\",CV_score,\"TEST:\",score_test)"
   ]
  },
  {
   "cell_type": "code",
   "execution_count": 3,
   "metadata": {},
   "outputs": [],
   "source": [
    "for i in range(500):\n",
    "    Xtrain,Xtest,Ytrain,Ytest = train_test_split(X,y,test_size=0.2,random_state=i)\n",
    "    rfc = GradientBoostingRegressor()\n",
    "    CV_score = cross_val_score(rfc, Xtrain, Ytrain, cv=5).mean()\n",
    "    regressor = rfc.fit(Xtrain, Ytrain)\n",
    "    score_test = regressor.score(Xtest,Ytest)\n",
    "#     if CV < CV_score and test < score_test:\n",
    "#         CV = CV_score\n",
    "#         test = score_test\n",
    "    if CV_score>0.5 and score_test>0.55:\n",
    "        print(\"5cv:\",CV_score,\"TEST:\",score_test,\"random_state:\",i)"
   ]
  },
  {
   "cell_type": "code",
   "execution_count": 3,
   "metadata": {},
   "outputs": [
    {
     "name": "stdout",
     "output_type": "stream",
     "text": [
      "5cv: 0.5059605968581462 TEST: 0.5832641280079494\n",
      "rmse_5CV 16.7106367504351\n"
     ]
    }
   ],
   "source": [
    "Xtrain,Xtest,Ytrain,Ytest = train_test_split(X,y,test_size=0.2,random_state=179)\n",
    "\n",
    "rfc = GradientBoostingRegressor()\n",
    "CV_score = cross_val_score(rfc, Xtrain, Ytrain, cv=5).mean()\n",
    "regressor = rfc.fit(Xtrain, Ytrain)\n",
    "CV_predictions = cross_val_predict(rfc, Xtrain,Ytrain,cv=5)\n",
    "rmse = np.sqrt(mean_squared_error(Ytrain,CV_predictions))\n",
    "\n",
    "\n",
    "score_test = regressor.score(Xtest,Ytest)\n",
    "print(\"5cv:\",CV_score,\"TEST:\",score_test)\n",
    "print(\"rmse_5CV\",rmse)"
   ]
  },
  {
   "cell_type": "code",
   "execution_count": 4,
   "metadata": {},
   "outputs": [
    {
     "name": "stdout",
     "output_type": "stream",
     "text": [
      "Best_5cv score：0.7590838846956267 random_5cv:151\n",
      "Best_5cv score：0.7615717290272597 n_est_5cv:75\n",
      "Best_5cv score：0.7636534255919231 max_depth_5cv:4\n",
      "Best_5cv score：0.7636534255919231 max_features_5cv:9\n",
      "r2_5cv: 0.7604663703829436 rmse_5CV 0.419875004847796 mae_5CV 0.2752905919756645\n",
      "r2_test: 0.8625962456219246 rmse_test 0.3388679117995989 mae_test 0.23925464460267917\n"
     ]
    }
   ],
   "source": [
    "score_5cv_all = []\n",
    "for i in range(1, 200, 1):\n",
    "    rfc =GradientBoostingRegressor(random_state=i)\n",
    "    score_5cv =cross_val_score(rfc, Xtrain, Ytrain, cv=5).mean()\n",
    "    score_5cv_all.append(score_5cv)\n",
    "    pass\n",
    "\n",
    "score_max_5cv = max(score_5cv_all)\n",
    "random_state_5cv = range(1, 200,1)[score_5cv_all.index(max(score_5cv_all))]\n",
    "\n",
    "print(\"Best_5cv score：{}\".format(score_max_5cv),\n",
    "      \"random_5cv:{}\".format(random_state_5cv))\n",
    "\n",
    "\n",
    "score_5cv_all = []\n",
    "for i in range(1, 300, 1):\n",
    "    rfc = GradientBoostingRegressor(n_estimators=i\n",
    "                                , random_state=random_state_5cv)\n",
    "    score_5cv = cross_val_score(rfc, Xtrain, Ytrain, cv=5).mean()\n",
    "    score_5cv_all.append(score_5cv)\n",
    "    pass\n",
    "\n",
    "score_max_5cv = max(score_5cv_all)\n",
    "n_est_5cv = range(1,300,1)[score_5cv_all.index(score_max_5cv)]\n",
    "\n",
    "print(\"Best_5cv score：{}\".format(score_max_5cv),\n",
    "      \"n_est_5cv:{}\".format(n_est_5cv))\n",
    "\n",
    "\n",
    "score_5cv_all = []\n",
    "for i in range(1, 100, 1):\n",
    "    rfc = GradientBoostingRegressor(n_estimators=n_est_5cv\n",
    "                                ,random_state=random_state_5cv\n",
    "                                ,max_depth=i)\n",
    "    score_5cv = cross_val_score(rfc, Xtrain, Ytrain, cv=5).mean()\n",
    "    score_5cv_all.append(score_5cv)\n",
    "    pass\n",
    "\n",
    "score_max_5cv = max(score_5cv_all)\n",
    "max_depth_5cv = range(1,100,1)[score_5cv_all.index(score_max_5cv)]\n",
    "\n",
    "print(\"Best_5cv score：{}\".format(score_max_5cv),\n",
    "      \"max_depth_5cv:{}\".format(max_depth_5cv))\n",
    "\n",
    "\n",
    "score_5cv_all = []\n",
    "for i in range(1,Xtrain.shape[1]+1):\n",
    "    rfc = GradientBoostingRegressor(n_estimators=n_est_5cv\n",
    "                                ,random_state=random_state_5cv\n",
    "                                ,max_depth=max_depth_5cv\n",
    "                                ,max_features=i)\n",
    "    score_5cv = cross_val_score(rfc, Xtrain, Ytrain, cv=5).mean()\n",
    "    score_5cv_all.append(score_5cv)\n",
    "    pass\n",
    "\n",
    "score_max_5cv = max(score_5cv_all)\n",
    "max_features_5cv = range(1, Xtrain.shape[1]+1)[score_5cv_all.index(score_max_5cv)]\n",
    "\n",
    "print(\"Best_5cv score：{}\".format(score_max_5cv),\n",
    "      \"max_features_5cv:{}\".format(max_features_5cv))\n",
    "\n",
    "\n",
    "rfc = GradientBoostingRegressor(n_estimators=n_est_5cv\n",
    "                                ,random_state=random_state_5cv\n",
    "                                ,max_depth=max_features_5cv\n",
    "                                , max_features=max_features_5cv\n",
    "                                )\n",
    "\n",
    "CV_score = cross_val_score(rfc, Xtrain, Ytrain, cv=5).mean()\n",
    "CV_predictions = cross_val_predict(rfc, Xtrain,Ytrain,cv=5)\n",
    "rmse = np.sqrt(mean_squared_error(Ytrain,CV_predictions))\n",
    "mae = MAE(Ytrain,CV_predictions)\n",
    "print(\"r2_5cv:\",CV_score,\"rmse_5CV\",rmse,\"mae_5CV\",mae)\n",
    "expvspred_5cv = {'Exp': Ytrain, 'Pred':CV_predictions}\n",
    "pd.DataFrame(expvspred_5cv).to_excel('GBDT_5fcv_pred.xlsx')\n",
    "\n",
    "regressor = rfc.fit(Xtrain, Ytrain)\n",
    "test_predictions = regressor.predict(Xtest)\n",
    "test_mae = MAE(Ytest,test_predictions)\n",
    "score_test = regressor.score(Xtest,Ytest)\n",
    "rmse = np.sqrt(mean_squared_error(Ytest,test_predictions))\n",
    "print(\"r2_test:\",score_test,\"rmse_test\",rmse,\"mae_test\",test_mae)\n",
    "expvspred_test = {'Exp':Ytest,'Pred':test_predictions}\n",
    "pd.DataFrame(expvspred_test).to_excel('GBDT_test_pred.xlsx')"
   ]
  },
  {
   "cell_type": "markdown",
   "metadata": {},
   "source": [
    "## Nanoplastic"
   ]
  },
  {
   "cell_type": "code",
   "execution_count": 5,
   "metadata": {},
   "outputs": [],
   "source": [
    "Xtrain = pd.read_excel(\"Xtrain.xlsx\",index_col=0)\n",
    "Xtest = pd.read_excel(\"Xtest.xlsx\",index_col=0)\n",
    "Ytrain = pd.read_excel(\"Ytrain.xlsx\")['Cell viability']\n",
    "Ytest = pd.read_excel(\"Ytest.xlsx\")['Cell viability']"
   ]
  },
  {
   "cell_type": "code",
   "execution_count": 6,
   "metadata": {},
   "outputs": [
    {
     "name": "stdout",
     "output_type": "stream",
     "text": [
      "Best_5cv score：0.7387295556193527 random_5cv:87\n",
      "Best_5cv score：0.7387295556193527 n_est_5cv:100\n",
      "Best_5cv score：0.7387295556193527 max_depth_5cv:3\n",
      "Best_5cv score：0.7387295556193527 max_features_5cv:9\n",
      "r2_5cv: 0.7177353849676017 rmse_5CV 1.0048036541943046 mae_5CV 0.7116046195323731\n",
      "r2_test: 0.8429290838263872 rmse_test 0.7970635955098595 mae_test 0.5728904956259273\n"
     ]
    }
   ],
   "source": [
    "score_5cv_all = []\n",
    "for i in range(1, 200, 1):\n",
    "    rfc =GradientBoostingRegressor(random_state=i)\n",
    "    score_5cv =cross_val_score(rfc, Xtrain, Ytrain, cv=5).mean()\n",
    "    score_5cv_all.append(score_5cv)\n",
    "    pass\n",
    "\n",
    "score_max_5cv = max(score_5cv_all)\n",
    "random_state_5cv = range(1, 200,1)[score_5cv_all.index(max(score_5cv_all))]\n",
    "\n",
    "print(\"Best_5cv score：{}\".format(score_max_5cv),\n",
    "      \"random_5cv:{}\".format(random_state_5cv))\n",
    "\n",
    "\n",
    "score_5cv_all = []\n",
    "for i in range(1, 300, 1):\n",
    "    rfc = GradientBoostingRegressor(n_estimators=i\n",
    "                                , random_state=random_state_5cv)\n",
    "    score_5cv = cross_val_score(rfc, Xtrain, Ytrain, cv=5).mean()\n",
    "    score_5cv_all.append(score_5cv)\n",
    "    pass\n",
    "\n",
    "score_max_5cv = max(score_5cv_all)\n",
    "n_est_5cv = range(1,300,1)[score_5cv_all.index(score_max_5cv)]\n",
    "\n",
    "print(\"Best_5cv score：{}\".format(score_max_5cv),\n",
    "      \"n_est_5cv:{}\".format(n_est_5cv))\n",
    "\n",
    "\n",
    "score_5cv_all = []\n",
    "for i in range(1, 100, 1):\n",
    "    rfc = GradientBoostingRegressor(n_estimators=n_est_5cv\n",
    "                                ,random_state=random_state_5cv\n",
    "                                ,max_depth=i)\n",
    "    score_5cv = cross_val_score(rfc, Xtrain, Ytrain, cv=5).mean()\n",
    "    score_5cv_all.append(score_5cv)\n",
    "    pass\n",
    "\n",
    "score_max_5cv = max(score_5cv_all)\n",
    "max_depth_5cv = range(1,100,1)[score_5cv_all.index(score_max_5cv)]\n",
    "\n",
    "print(\"Best_5cv score：{}\".format(score_max_5cv),\n",
    "      \"max_depth_5cv:{}\".format(max_depth_5cv))\n",
    "\n",
    "\n",
    "score_5cv_all = []\n",
    "for i in range(1,Xtrain.shape[1]+1):\n",
    "    rfc = GradientBoostingRegressor(n_estimators=n_est_5cv\n",
    "                                ,random_state=random_state_5cv\n",
    "                                ,max_depth=max_depth_5cv\n",
    "                                ,max_features=i)\n",
    "    score_5cv = cross_val_score(rfc, Xtrain, Ytrain, cv=5).mean()\n",
    "    score_5cv_all.append(score_5cv)\n",
    "    pass\n",
    "\n",
    "score_max_5cv = max(score_5cv_all)\n",
    "max_features_5cv = range(1, Xtrain.shape[1]+1)[score_5cv_all.index(score_max_5cv)]\n",
    "\n",
    "print(\"Best_5cv score：{}\".format(score_max_5cv),\n",
    "      \"max_features_5cv:{}\".format(max_features_5cv))\n",
    "\n",
    "\n",
    "rfc = GradientBoostingRegressor(n_estimators=n_est_5cv\n",
    "                                ,random_state=random_state_5cv\n",
    "                                ,max_depth=max_features_5cv\n",
    "                                , max_features=max_features_5cv\n",
    "                                )\n",
    "\n",
    "CV_score = cross_val_score(rfc, Xtrain, Ytrain, cv=5).mean()\n",
    "CV_predictions = cross_val_predict(rfc, Xtrain,Ytrain,cv=5)\n",
    "rmse = np.sqrt(mean_squared_error(Ytrain,CV_predictions))\n",
    "mae = MAE(Ytrain,CV_predictions)\n",
    "print(\"r2_5cv:\",CV_score,\"rmse_5CV\",rmse,\"mae_5CV\",mae)\n",
    "expvspred_5cv = {'Exp': Ytrain, 'Pred':CV_predictions}\n",
    "pd.DataFrame(expvspred_5cv).to_excel('GBDT_5fcv_pred.xlsx')\n",
    "\n",
    "regressor = rfc.fit(Xtrain, Ytrain)\n",
    "test_predictions = regressor.predict(Xtest)\n",
    "test_mae = MAE(Ytest,test_predictions)\n",
    "score_test = regressor.score(Xtest,Ytest)\n",
    "rmse = np.sqrt(mean_squared_error(Ytest,test_predictions))\n",
    "print(\"r2_test:\",score_test,\"rmse_test\",rmse,\"mae_test\",test_mae)\n",
    "expvspred_test = {'Exp':Ytest,'Pred':test_predictions}\n",
    "pd.DataFrame(expvspred_test).to_excel('GBDT_test_pred.xlsx')"
   ]
  },
  {
   "cell_type": "code",
   "execution_count": 8,
   "metadata": {},
   "outputs": [],
   "source": [
    "\n",
    "rfc = GradientBoostingRegressor(n_estimators=299\n",
    "                                ,random_state=145\n",
    "                                ,max_depth=6\n",
    "                                )"
   ]
  },
  {
   "cell_type": "code",
   "execution_count": 9,
   "metadata": {},
   "outputs": [
    {
     "name": "stdout",
     "output_type": "stream",
     "text": [
      "r2_5cv: 0.7154187139333976 rmse_5CV 12.745684548395445 mae_5CV 7.922475429138053\n"
     ]
    }
   ],
   "source": [
    "CV_score = cross_val_score(rfc, Xtrain, Ytrain, cv=5).mean()\n",
    "CV_predictions = cross_val_predict(rfc, Xtrain,Ytrain,cv=5)\n",
    "rmse = np.sqrt(mean_squared_error(Ytrain,CV_predictions))\n",
    "mae = MAE(Ytrain,CV_predictions)\n",
    "print(\"r2_5cv:\",CV_score,\"rmse_5CV\",rmse,\"mae_5CV\",mae)\n",
    "expvspred_5cv = {'Exp': Ytrain, 'Pred':CV_predictions}\n",
    "pd.DataFrame(expvspred_5cv).to_excel('GBDT_5fcv_pred.xlsx')"
   ]
  },
  {
   "cell_type": "code",
   "execution_count": 10,
   "metadata": {},
   "outputs": [
    {
     "name": "stdout",
     "output_type": "stream",
     "text": [
      "r2_test: 0.7821613336829869 rmse_test 11.19834972432879 mae_test 7.388434216078038\n"
     ]
    }
   ],
   "source": [
    "regressor = rfc.fit(Xtrain, Ytrain)\n",
    "test_predictions = regressor.predict(Xtest)\n",
    "test_mae = MAE(Ytest,test_predictions)\n",
    "score_test = regressor.score(Xtest,Ytest)\n",
    "rmse = np.sqrt(mean_squared_error(Ytest,test_predictions))\n",
    "print(\"r2_test:\",score_test,\"rmse_test\",rmse,\"mae_test\",test_mae)\n",
    "expvspred_test = {'Exp':Ytest,'Pred':test_predictions}\n",
    "pd.DataFrame(expvspred_test).to_excel('GBDT_test_pred.xlsx')"
   ]
  }
 ],
 "metadata": {
  "kernelspec": {
   "display_name": "base",
   "language": "python",
   "name": "python3"
  },
  "language_info": {
   "codemirror_mode": {
    "name": "ipython",
    "version": 3
   },
   "file_extension": ".py",
   "mimetype": "text/x-python",
   "name": "python",
   "nbconvert_exporter": "python",
   "pygments_lexer": "ipython3",
   "version": "3.9.12"
  },
  "orig_nbformat": 4
 },
 "nbformat": 4,
 "nbformat_minor": 2
}
